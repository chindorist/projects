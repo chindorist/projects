{
 "cells": [
  {
   "cell_type": "code",
   "execution_count": 1,
   "metadata": {},
   "outputs": [],
   "source": [
    "import tweepy\n",
    "import pandas as pd\n",
    "import numpy as np\n",
    "import matplotlib.pyplot as plt\n",
    "\n",
    "import json\n",
    "import csv\n",
    "\n",
    "import sys\n",
    "import re\n",
    "from tweepy import OAuthHandler\n",
    "from tweepy import API\n",
    "\n",
    "\n",
    "auth = tweepy.OAuthHandler(\"IrFYHS6JGhP549kIiMyhFQPUl\", \"8TZx5nqPe6YYtPpcbVkzAEUOCWkNQR0xJNnzN5wnIkelzWf3Y5\")\n",
    "auth.set_access_token(\"274959579-PTG33hMz2Wi9saH2y9lqfOoIpzBFxTcIjvlFnZYv\",\"25DeuaYF18R3kZy7tKNYnrJDd992dX0uYVd7tu0oVQ8oT\")\n",
    "api = tweepy.API(auth)"
   ]
  },
  {
   "cell_type": "code",
   "execution_count": 2,
   "metadata": {},
   "outputs": [],
   "source": [
    "from tweepy import Stream\n",
    "from tweepy.streaming import StreamListener"
   ]
  },
  {
   "cell_type": "code",
   "execution_count": 3,
   "metadata": {},
   "outputs": [
    {
     "ename": "ProtocolError",
     "evalue": "('Connection broken: IncompleteRead(0 bytes read)', IncompleteRead(0 bytes read))",
     "output_type": "error",
     "traceback": [
      "\u001b[1;31m---------------------------------------------------------------------------\u001b[0m",
      "\u001b[1;31mValueError\u001b[0m                                Traceback (most recent call last)",
      "\u001b[1;32m~\\anaconda3\\lib\\http\\client.py\u001b[0m in \u001b[0;36m_get_chunk_left\u001b[1;34m(self)\u001b[0m\n\u001b[0;32m    554\u001b[0m             \u001b[1;32mtry\u001b[0m\u001b[1;33m:\u001b[0m\u001b[1;33m\u001b[0m\u001b[1;33m\u001b[0m\u001b[0m\n\u001b[1;32m--> 555\u001b[1;33m                 \u001b[0mchunk_left\u001b[0m \u001b[1;33m=\u001b[0m \u001b[0mself\u001b[0m\u001b[1;33m.\u001b[0m\u001b[0m_read_next_chunk_size\u001b[0m\u001b[1;33m(\u001b[0m\u001b[1;33m)\u001b[0m\u001b[1;33m\u001b[0m\u001b[1;33m\u001b[0m\u001b[0m\n\u001b[0m\u001b[0;32m    556\u001b[0m             \u001b[1;32mexcept\u001b[0m \u001b[0mValueError\u001b[0m\u001b[1;33m:\u001b[0m\u001b[1;33m\u001b[0m\u001b[1;33m\u001b[0m\u001b[0m\n",
      "\u001b[1;32m~\\anaconda3\\lib\\http\\client.py\u001b[0m in \u001b[0;36m_read_next_chunk_size\u001b[1;34m(self)\u001b[0m\n\u001b[0;32m    521\u001b[0m         \u001b[1;32mtry\u001b[0m\u001b[1;33m:\u001b[0m\u001b[1;33m\u001b[0m\u001b[1;33m\u001b[0m\u001b[0m\n\u001b[1;32m--> 522\u001b[1;33m             \u001b[1;32mreturn\u001b[0m \u001b[0mint\u001b[0m\u001b[1;33m(\u001b[0m\u001b[0mline\u001b[0m\u001b[1;33m,\u001b[0m \u001b[1;36m16\u001b[0m\u001b[1;33m)\u001b[0m\u001b[1;33m\u001b[0m\u001b[1;33m\u001b[0m\u001b[0m\n\u001b[0m\u001b[0;32m    523\u001b[0m         \u001b[1;32mexcept\u001b[0m \u001b[0mValueError\u001b[0m\u001b[1;33m:\u001b[0m\u001b[1;33m\u001b[0m\u001b[1;33m\u001b[0m\u001b[0m\n",
      "\u001b[1;31mValueError\u001b[0m: invalid literal for int() with base 16: b''",
      "\nDuring handling of the above exception, another exception occurred:\n",
      "\u001b[1;31mIncompleteRead\u001b[0m                            Traceback (most recent call last)",
      "\u001b[1;32m~\\anaconda3\\lib\\http\\client.py\u001b[0m in \u001b[0;36m_readinto_chunked\u001b[1;34m(self, b)\u001b[0m\n\u001b[0;32m    586\u001b[0m             \u001b[1;32mwhile\u001b[0m \u001b[1;32mTrue\u001b[0m\u001b[1;33m:\u001b[0m\u001b[1;33m\u001b[0m\u001b[1;33m\u001b[0m\u001b[0m\n\u001b[1;32m--> 587\u001b[1;33m                 \u001b[0mchunk_left\u001b[0m \u001b[1;33m=\u001b[0m \u001b[0mself\u001b[0m\u001b[1;33m.\u001b[0m\u001b[0m_get_chunk_left\u001b[0m\u001b[1;33m(\u001b[0m\u001b[1;33m)\u001b[0m\u001b[1;33m\u001b[0m\u001b[1;33m\u001b[0m\u001b[0m\n\u001b[0m\u001b[0;32m    588\u001b[0m                 \u001b[1;32mif\u001b[0m \u001b[0mchunk_left\u001b[0m \u001b[1;32mis\u001b[0m \u001b[1;32mNone\u001b[0m\u001b[1;33m:\u001b[0m\u001b[1;33m\u001b[0m\u001b[1;33m\u001b[0m\u001b[0m\n",
      "\u001b[1;32m~\\anaconda3\\lib\\http\\client.py\u001b[0m in \u001b[0;36m_get_chunk_left\u001b[1;34m(self)\u001b[0m\n\u001b[0;32m    556\u001b[0m             \u001b[1;32mexcept\u001b[0m \u001b[0mValueError\u001b[0m\u001b[1;33m:\u001b[0m\u001b[1;33m\u001b[0m\u001b[1;33m\u001b[0m\u001b[0m\n\u001b[1;32m--> 557\u001b[1;33m                 \u001b[1;32mraise\u001b[0m \u001b[0mIncompleteRead\u001b[0m\u001b[1;33m(\u001b[0m\u001b[1;34mb''\u001b[0m\u001b[1;33m)\u001b[0m\u001b[1;33m\u001b[0m\u001b[1;33m\u001b[0m\u001b[0m\n\u001b[0m\u001b[0;32m    558\u001b[0m             \u001b[1;32mif\u001b[0m \u001b[0mchunk_left\u001b[0m \u001b[1;33m==\u001b[0m \u001b[1;36m0\u001b[0m\u001b[1;33m:\u001b[0m\u001b[1;33m\u001b[0m\u001b[1;33m\u001b[0m\u001b[0m\n",
      "\u001b[1;31mIncompleteRead\u001b[0m: IncompleteRead(0 bytes read)",
      "\nDuring handling of the above exception, another exception occurred:\n",
      "\u001b[1;31mIncompleteRead\u001b[0m                            Traceback (most recent call last)",
      "\u001b[1;32m~\\anaconda3\\lib\\site-packages\\urllib3\\response.py\u001b[0m in \u001b[0;36m_error_catcher\u001b[1;34m(self)\u001b[0m\n\u001b[0;32m    435\u001b[0m             \u001b[1;32mtry\u001b[0m\u001b[1;33m:\u001b[0m\u001b[1;33m\u001b[0m\u001b[1;33m\u001b[0m\u001b[0m\n\u001b[1;32m--> 436\u001b[1;33m                 \u001b[1;32myield\u001b[0m\u001b[1;33m\u001b[0m\u001b[1;33m\u001b[0m\u001b[0m\n\u001b[0m\u001b[0;32m    437\u001b[0m \u001b[1;33m\u001b[0m\u001b[0m\n",
      "\u001b[1;32m~\\anaconda3\\lib\\site-packages\\urllib3\\response.py\u001b[0m in \u001b[0;36mread\u001b[1;34m(self, amt, decode_content, cache_content)\u001b[0m\n\u001b[0;32m    517\u001b[0m                 \u001b[0mcache_content\u001b[0m \u001b[1;33m=\u001b[0m \u001b[1;32mFalse\u001b[0m\u001b[1;33m\u001b[0m\u001b[1;33m\u001b[0m\u001b[0m\n\u001b[1;32m--> 518\u001b[1;33m                 \u001b[0mdata\u001b[0m \u001b[1;33m=\u001b[0m \u001b[0mself\u001b[0m\u001b[1;33m.\u001b[0m\u001b[0m_fp\u001b[0m\u001b[1;33m.\u001b[0m\u001b[0mread\u001b[0m\u001b[1;33m(\u001b[0m\u001b[0mamt\u001b[0m\u001b[1;33m)\u001b[0m \u001b[1;32mif\u001b[0m \u001b[1;32mnot\u001b[0m \u001b[0mfp_closed\u001b[0m \u001b[1;32melse\u001b[0m \u001b[1;34mb\"\"\u001b[0m\u001b[1;33m\u001b[0m\u001b[1;33m\u001b[0m\u001b[0m\n\u001b[0m\u001b[0;32m    519\u001b[0m                 if (\n",
      "\u001b[1;32m~\\anaconda3\\lib\\http\\client.py\u001b[0m in \u001b[0;36mread\u001b[1;34m(self, amt)\u001b[0m\n\u001b[0;32m    457\u001b[0m             \u001b[0mb\u001b[0m \u001b[1;33m=\u001b[0m \u001b[0mbytearray\u001b[0m\u001b[1;33m(\u001b[0m\u001b[0mamt\u001b[0m\u001b[1;33m)\u001b[0m\u001b[1;33m\u001b[0m\u001b[1;33m\u001b[0m\u001b[0m\n\u001b[1;32m--> 458\u001b[1;33m             \u001b[0mn\u001b[0m \u001b[1;33m=\u001b[0m \u001b[0mself\u001b[0m\u001b[1;33m.\u001b[0m\u001b[0mreadinto\u001b[0m\u001b[1;33m(\u001b[0m\u001b[0mb\u001b[0m\u001b[1;33m)\u001b[0m\u001b[1;33m\u001b[0m\u001b[1;33m\u001b[0m\u001b[0m\n\u001b[0m\u001b[0;32m    459\u001b[0m             \u001b[1;32mreturn\u001b[0m \u001b[0mmemoryview\u001b[0m\u001b[1;33m(\u001b[0m\u001b[0mb\u001b[0m\u001b[1;33m)\u001b[0m\u001b[1;33m[\u001b[0m\u001b[1;33m:\u001b[0m\u001b[0mn\u001b[0m\u001b[1;33m]\u001b[0m\u001b[1;33m.\u001b[0m\u001b[0mtobytes\u001b[0m\u001b[1;33m(\u001b[0m\u001b[1;33m)\u001b[0m\u001b[1;33m\u001b[0m\u001b[1;33m\u001b[0m\u001b[0m\n",
      "\u001b[1;32m~\\anaconda3\\lib\\http\\client.py\u001b[0m in \u001b[0;36mreadinto\u001b[1;34m(self, b)\u001b[0m\n\u001b[0;32m    491\u001b[0m         \u001b[1;32mif\u001b[0m \u001b[0mself\u001b[0m\u001b[1;33m.\u001b[0m\u001b[0mchunked\u001b[0m\u001b[1;33m:\u001b[0m\u001b[1;33m\u001b[0m\u001b[1;33m\u001b[0m\u001b[0m\n\u001b[1;32m--> 492\u001b[1;33m             \u001b[1;32mreturn\u001b[0m \u001b[0mself\u001b[0m\u001b[1;33m.\u001b[0m\u001b[0m_readinto_chunked\u001b[0m\u001b[1;33m(\u001b[0m\u001b[0mb\u001b[0m\u001b[1;33m)\u001b[0m\u001b[1;33m\u001b[0m\u001b[1;33m\u001b[0m\u001b[0m\n\u001b[0m\u001b[0;32m    493\u001b[0m \u001b[1;33m\u001b[0m\u001b[0m\n",
      "\u001b[1;32m~\\anaconda3\\lib\\http\\client.py\u001b[0m in \u001b[0;36m_readinto_chunked\u001b[1;34m(self, b)\u001b[0m\n\u001b[0;32m    602\u001b[0m         \u001b[1;32mexcept\u001b[0m \u001b[0mIncompleteRead\u001b[0m\u001b[1;33m:\u001b[0m\u001b[1;33m\u001b[0m\u001b[1;33m\u001b[0m\u001b[0m\n\u001b[1;32m--> 603\u001b[1;33m             \u001b[1;32mraise\u001b[0m \u001b[0mIncompleteRead\u001b[0m\u001b[1;33m(\u001b[0m\u001b[0mbytes\u001b[0m\u001b[1;33m(\u001b[0m\u001b[0mb\u001b[0m\u001b[1;33m[\u001b[0m\u001b[1;36m0\u001b[0m\u001b[1;33m:\u001b[0m\u001b[0mtotal_bytes\u001b[0m\u001b[1;33m]\u001b[0m\u001b[1;33m)\u001b[0m\u001b[1;33m)\u001b[0m\u001b[1;33m\u001b[0m\u001b[1;33m\u001b[0m\u001b[0m\n\u001b[0m\u001b[0;32m    604\u001b[0m \u001b[1;33m\u001b[0m\u001b[0m\n",
      "\u001b[1;31mIncompleteRead\u001b[0m: IncompleteRead(0 bytes read)",
      "\nDuring handling of the above exception, another exception occurred:\n",
      "\u001b[1;31mProtocolError\u001b[0m                             Traceback (most recent call last)",
      "\u001b[1;32m<ipython-input-3-cd68374c6617>\u001b[0m in \u001b[0;36m<module>\u001b[1;34m\u001b[0m\n\u001b[0;32m     31\u001b[0m \u001b[0mstream\u001b[0m \u001b[1;33m=\u001b[0m \u001b[0mStream\u001b[0m\u001b[1;33m(\u001b[0m\u001b[0mauth\u001b[0m\u001b[1;33m,\u001b[0m\u001b[0msl\u001b[0m\u001b[1;33m)\u001b[0m\u001b[1;33m\u001b[0m\u001b[1;33m\u001b[0m\u001b[0m\n\u001b[0;32m     32\u001b[0m \u001b[1;33m\u001b[0m\u001b[0m\n\u001b[1;32m---> 33\u001b[1;33m \u001b[0mstream\u001b[0m\u001b[1;33m.\u001b[0m\u001b[0mfilter\u001b[0m\u001b[1;33m(\u001b[0m\u001b[0mtrack\u001b[0m\u001b[1;33m=\u001b[0m\u001b[0mkeywords_to_track\u001b[0m\u001b[1;33m)\u001b[0m\u001b[1;33m\u001b[0m\u001b[1;33m\u001b[0m\u001b[0m\n\u001b[0m\u001b[0;32m     34\u001b[0m \u001b[1;33m\u001b[0m\u001b[0m\n\u001b[0;32m     35\u001b[0m \u001b[1;33m\u001b[0m\u001b[0m\n",
      "\u001b[1;32m~\\anaconda3\\lib\\site-packages\\tweepy\\streaming.py\u001b[0m in \u001b[0;36mfilter\u001b[1;34m(self, follow, track, is_async, locations, stall_warnings, languages, encoding, filter_level)\u001b[0m\n\u001b[0;32m    472\u001b[0m             \u001b[0mself\u001b[0m\u001b[1;33m.\u001b[0m\u001b[0mbody\u001b[0m\u001b[1;33m[\u001b[0m\u001b[1;34m'filter_level'\u001b[0m\u001b[1;33m]\u001b[0m \u001b[1;33m=\u001b[0m \u001b[0mfilter_level\u001b[0m\u001b[1;33m.\u001b[0m\u001b[0mencode\u001b[0m\u001b[1;33m(\u001b[0m\u001b[0mencoding\u001b[0m\u001b[1;33m)\u001b[0m\u001b[1;33m\u001b[0m\u001b[1;33m\u001b[0m\u001b[0m\n\u001b[0;32m    473\u001b[0m         \u001b[0mself\u001b[0m\u001b[1;33m.\u001b[0m\u001b[0msession\u001b[0m\u001b[1;33m.\u001b[0m\u001b[0mparams\u001b[0m \u001b[1;33m=\u001b[0m \u001b[1;33m{\u001b[0m\u001b[1;34m'delimited'\u001b[0m\u001b[1;33m:\u001b[0m \u001b[1;34m'length'\u001b[0m\u001b[1;33m}\u001b[0m\u001b[1;33m\u001b[0m\u001b[1;33m\u001b[0m\u001b[0m\n\u001b[1;32m--> 474\u001b[1;33m         \u001b[0mself\u001b[0m\u001b[1;33m.\u001b[0m\u001b[0m_start\u001b[0m\u001b[1;33m(\u001b[0m\u001b[0mis_async\u001b[0m\u001b[1;33m)\u001b[0m\u001b[1;33m\u001b[0m\u001b[1;33m\u001b[0m\u001b[0m\n\u001b[0m\u001b[0;32m    475\u001b[0m \u001b[1;33m\u001b[0m\u001b[0m\n\u001b[0;32m    476\u001b[0m     def sitestream(self, follow, stall_warnings=False,\n",
      "\u001b[1;32m~\\anaconda3\\lib\\site-packages\\tweepy\\streaming.py\u001b[0m in \u001b[0;36m_start\u001b[1;34m(self, is_async)\u001b[0m\n\u001b[0;32m    387\u001b[0m             \u001b[0mself\u001b[0m\u001b[1;33m.\u001b[0m\u001b[0m_thread\u001b[0m\u001b[1;33m.\u001b[0m\u001b[0mstart\u001b[0m\u001b[1;33m(\u001b[0m\u001b[1;33m)\u001b[0m\u001b[1;33m\u001b[0m\u001b[1;33m\u001b[0m\u001b[0m\n\u001b[0;32m    388\u001b[0m         \u001b[1;32melse\u001b[0m\u001b[1;33m:\u001b[0m\u001b[1;33m\u001b[0m\u001b[1;33m\u001b[0m\u001b[0m\n\u001b[1;32m--> 389\u001b[1;33m             \u001b[0mself\u001b[0m\u001b[1;33m.\u001b[0m\u001b[0m_run\u001b[0m\u001b[1;33m(\u001b[0m\u001b[1;33m)\u001b[0m\u001b[1;33m\u001b[0m\u001b[1;33m\u001b[0m\u001b[0m\n\u001b[0m\u001b[0;32m    390\u001b[0m \u001b[1;33m\u001b[0m\u001b[0m\n\u001b[0;32m    391\u001b[0m     \u001b[1;32mdef\u001b[0m \u001b[0mon_closed\u001b[0m\u001b[1;33m(\u001b[0m\u001b[0mself\u001b[0m\u001b[1;33m,\u001b[0m \u001b[0mresp\u001b[0m\u001b[1;33m)\u001b[0m\u001b[1;33m:\u001b[0m\u001b[1;33m\u001b[0m\u001b[1;33m\u001b[0m\u001b[0m\n",
      "\u001b[1;32m~\\anaconda3\\lib\\site-packages\\tweepy\\streaming.py\u001b[0m in \u001b[0;36m_run\u001b[1;34m(self)\u001b[0m\n\u001b[0;32m    318\u001b[0m             \u001b[1;31m# call a handler first so that the exception can be logged.\u001b[0m\u001b[1;33m\u001b[0m\u001b[1;33m\u001b[0m\u001b[1;33m\u001b[0m\u001b[0m\n\u001b[0;32m    319\u001b[0m             \u001b[0mself\u001b[0m\u001b[1;33m.\u001b[0m\u001b[0mlistener\u001b[0m\u001b[1;33m.\u001b[0m\u001b[0mon_exception\u001b[0m\u001b[1;33m(\u001b[0m\u001b[0mexc_info\u001b[0m\u001b[1;33m[\u001b[0m\u001b[1;36m1\u001b[0m\u001b[1;33m]\u001b[0m\u001b[1;33m)\u001b[0m\u001b[1;33m\u001b[0m\u001b[1;33m\u001b[0m\u001b[0m\n\u001b[1;32m--> 320\u001b[1;33m             \u001b[0msix\u001b[0m\u001b[1;33m.\u001b[0m\u001b[0mreraise\u001b[0m\u001b[1;33m(\u001b[0m\u001b[1;33m*\u001b[0m\u001b[0mexc_info\u001b[0m\u001b[1;33m)\u001b[0m\u001b[1;33m\u001b[0m\u001b[1;33m\u001b[0m\u001b[0m\n\u001b[0m\u001b[0;32m    321\u001b[0m \u001b[1;33m\u001b[0m\u001b[0m\n\u001b[0;32m    322\u001b[0m     \u001b[1;32mdef\u001b[0m \u001b[0m_data\u001b[0m\u001b[1;33m(\u001b[0m\u001b[0mself\u001b[0m\u001b[1;33m,\u001b[0m \u001b[0mdata\u001b[0m\u001b[1;33m)\u001b[0m\u001b[1;33m:\u001b[0m\u001b[1;33m\u001b[0m\u001b[1;33m\u001b[0m\u001b[0m\n",
      "\u001b[1;32m~\\anaconda3\\lib\\site-packages\\six.py\u001b[0m in \u001b[0;36mreraise\u001b[1;34m(tp, value, tb)\u001b[0m\n\u001b[0;32m    701\u001b[0m             \u001b[1;32mif\u001b[0m \u001b[0mvalue\u001b[0m\u001b[1;33m.\u001b[0m\u001b[0m__traceback__\u001b[0m \u001b[1;32mis\u001b[0m \u001b[1;32mnot\u001b[0m \u001b[0mtb\u001b[0m\u001b[1;33m:\u001b[0m\u001b[1;33m\u001b[0m\u001b[1;33m\u001b[0m\u001b[0m\n\u001b[0;32m    702\u001b[0m                 \u001b[1;32mraise\u001b[0m \u001b[0mvalue\u001b[0m\u001b[1;33m.\u001b[0m\u001b[0mwith_traceback\u001b[0m\u001b[1;33m(\u001b[0m\u001b[0mtb\u001b[0m\u001b[1;33m)\u001b[0m\u001b[1;33m\u001b[0m\u001b[1;33m\u001b[0m\u001b[0m\n\u001b[1;32m--> 703\u001b[1;33m             \u001b[1;32mraise\u001b[0m \u001b[0mvalue\u001b[0m\u001b[1;33m\u001b[0m\u001b[1;33m\u001b[0m\u001b[0m\n\u001b[0m\u001b[0;32m    704\u001b[0m         \u001b[1;32mfinally\u001b[0m\u001b[1;33m:\u001b[0m\u001b[1;33m\u001b[0m\u001b[1;33m\u001b[0m\u001b[0m\n\u001b[0;32m    705\u001b[0m             \u001b[0mvalue\u001b[0m \u001b[1;33m=\u001b[0m \u001b[1;32mNone\u001b[0m\u001b[1;33m\u001b[0m\u001b[1;33m\u001b[0m\u001b[0m\n",
      "\u001b[1;32m~\\anaconda3\\lib\\site-packages\\tweepy\\streaming.py\u001b[0m in \u001b[0;36m_run\u001b[1;34m(self)\u001b[0m\n\u001b[0;32m    287\u001b[0m                     \u001b[0mself\u001b[0m\u001b[1;33m.\u001b[0m\u001b[0msnooze_time\u001b[0m \u001b[1;33m=\u001b[0m \u001b[0mself\u001b[0m\u001b[1;33m.\u001b[0m\u001b[0msnooze_time_step\u001b[0m\u001b[1;33m\u001b[0m\u001b[1;33m\u001b[0m\u001b[0m\n\u001b[0;32m    288\u001b[0m                     \u001b[0mself\u001b[0m\u001b[1;33m.\u001b[0m\u001b[0mlistener\u001b[0m\u001b[1;33m.\u001b[0m\u001b[0mon_connect\u001b[0m\u001b[1;33m(\u001b[0m\u001b[1;33m)\u001b[0m\u001b[1;33m\u001b[0m\u001b[1;33m\u001b[0m\u001b[0m\n\u001b[1;32m--> 289\u001b[1;33m                     \u001b[0mself\u001b[0m\u001b[1;33m.\u001b[0m\u001b[0m_read_loop\u001b[0m\u001b[1;33m(\u001b[0m\u001b[0mresp\u001b[0m\u001b[1;33m)\u001b[0m\u001b[1;33m\u001b[0m\u001b[1;33m\u001b[0m\u001b[0m\n\u001b[0m\u001b[0;32m    290\u001b[0m             \u001b[1;32mexcept\u001b[0m \u001b[1;33m(\u001b[0m\u001b[0mTimeout\u001b[0m\u001b[1;33m,\u001b[0m \u001b[0mssl\u001b[0m\u001b[1;33m.\u001b[0m\u001b[0mSSLError\u001b[0m\u001b[1;33m)\u001b[0m \u001b[1;32mas\u001b[0m \u001b[0mexc\u001b[0m\u001b[1;33m:\u001b[0m\u001b[1;33m\u001b[0m\u001b[1;33m\u001b[0m\u001b[0m\n\u001b[0;32m    291\u001b[0m                 \u001b[1;31m# This is still necessary, as a SSLError can actually be\u001b[0m\u001b[1;33m\u001b[0m\u001b[1;33m\u001b[0m\u001b[1;33m\u001b[0m\u001b[0m\n",
      "\u001b[1;32m~\\anaconda3\\lib\\site-packages\\tweepy\\streaming.py\u001b[0m in \u001b[0;36m_read_loop\u001b[1;34m(self, resp)\u001b[0m\n\u001b[0;32m    337\u001b[0m             \u001b[0mlength\u001b[0m \u001b[1;33m=\u001b[0m \u001b[1;36m0\u001b[0m\u001b[1;33m\u001b[0m\u001b[1;33m\u001b[0m\u001b[0m\n\u001b[0;32m    338\u001b[0m             \u001b[1;32mwhile\u001b[0m \u001b[1;32mnot\u001b[0m \u001b[0mresp\u001b[0m\u001b[1;33m.\u001b[0m\u001b[0mraw\u001b[0m\u001b[1;33m.\u001b[0m\u001b[0mclosed\u001b[0m\u001b[1;33m:\u001b[0m\u001b[1;33m\u001b[0m\u001b[1;33m\u001b[0m\u001b[0m\n\u001b[1;32m--> 339\u001b[1;33m                 \u001b[0mline\u001b[0m \u001b[1;33m=\u001b[0m \u001b[0mbuf\u001b[0m\u001b[1;33m.\u001b[0m\u001b[0mread_line\u001b[0m\u001b[1;33m(\u001b[0m\u001b[1;33m)\u001b[0m\u001b[1;33m\u001b[0m\u001b[1;33m\u001b[0m\u001b[0m\n\u001b[0m\u001b[0;32m    340\u001b[0m                 \u001b[0mstripped_line\u001b[0m \u001b[1;33m=\u001b[0m \u001b[0mline\u001b[0m\u001b[1;33m.\u001b[0m\u001b[0mstrip\u001b[0m\u001b[1;33m(\u001b[0m\u001b[1;33m)\u001b[0m \u001b[1;32mif\u001b[0m \u001b[0mline\u001b[0m \u001b[1;32melse\u001b[0m \u001b[0mline\u001b[0m \u001b[1;31m# line is sometimes None so we need to check here\u001b[0m\u001b[1;33m\u001b[0m\u001b[1;33m\u001b[0m\u001b[0m\n\u001b[0;32m    341\u001b[0m                 \u001b[1;32mif\u001b[0m \u001b[1;32mnot\u001b[0m \u001b[0mstripped_line\u001b[0m\u001b[1;33m:\u001b[0m\u001b[1;33m\u001b[0m\u001b[1;33m\u001b[0m\u001b[0m\n",
      "\u001b[1;32m~\\anaconda3\\lib\\site-packages\\tweepy\\streaming.py\u001b[0m in \u001b[0;36mread_line\u001b[1;34m(self, sep)\u001b[0m\n\u001b[0;32m    198\u001b[0m             \u001b[1;32melse\u001b[0m\u001b[1;33m:\u001b[0m\u001b[1;33m\u001b[0m\u001b[1;33m\u001b[0m\u001b[0m\n\u001b[0;32m    199\u001b[0m                 \u001b[0mstart\u001b[0m \u001b[1;33m=\u001b[0m \u001b[0mlen\u001b[0m\u001b[1;33m(\u001b[0m\u001b[0mself\u001b[0m\u001b[1;33m.\u001b[0m\u001b[0m_buffer\u001b[0m\u001b[1;33m)\u001b[0m\u001b[1;33m\u001b[0m\u001b[1;33m\u001b[0m\u001b[0m\n\u001b[1;32m--> 200\u001b[1;33m             \u001b[0mself\u001b[0m\u001b[1;33m.\u001b[0m\u001b[0m_buffer\u001b[0m \u001b[1;33m+=\u001b[0m \u001b[0mself\u001b[0m\u001b[1;33m.\u001b[0m\u001b[0m_stream\u001b[0m\u001b[1;33m.\u001b[0m\u001b[0mread\u001b[0m\u001b[1;33m(\u001b[0m\u001b[0mself\u001b[0m\u001b[1;33m.\u001b[0m\u001b[0m_chunk_size\u001b[0m\u001b[1;33m)\u001b[0m\u001b[1;33m\u001b[0m\u001b[1;33m\u001b[0m\u001b[0m\n\u001b[0m\u001b[0;32m    201\u001b[0m         \u001b[1;32mreturn\u001b[0m \u001b[0msix\u001b[0m\u001b[1;33m.\u001b[0m\u001b[0mb\u001b[0m\u001b[1;33m(\u001b[0m\u001b[1;34m''\u001b[0m\u001b[1;33m)\u001b[0m\u001b[1;33m\u001b[0m\u001b[1;33m\u001b[0m\u001b[0m\n\u001b[0;32m    202\u001b[0m \u001b[1;33m\u001b[0m\u001b[0m\n",
      "\u001b[1;32m~\\anaconda3\\lib\\site-packages\\urllib3\\response.py\u001b[0m in \u001b[0;36mread\u001b[1;34m(self, amt, decode_content, cache_content)\u001b[0m\n\u001b[0;32m    538\u001b[0m                         \u001b[1;31m# raised during streaming, so all calls with incorrect\u001b[0m\u001b[1;33m\u001b[0m\u001b[1;33m\u001b[0m\u001b[1;33m\u001b[0m\u001b[0m\n\u001b[0;32m    539\u001b[0m                         \u001b[1;31m# Content-Length are caught.\u001b[0m\u001b[1;33m\u001b[0m\u001b[1;33m\u001b[0m\u001b[1;33m\u001b[0m\u001b[0m\n\u001b[1;32m--> 540\u001b[1;33m                         \u001b[1;32mraise\u001b[0m \u001b[0mIncompleteRead\u001b[0m\u001b[1;33m(\u001b[0m\u001b[0mself\u001b[0m\u001b[1;33m.\u001b[0m\u001b[0m_fp_bytes_read\u001b[0m\u001b[1;33m,\u001b[0m \u001b[0mself\u001b[0m\u001b[1;33m.\u001b[0m\u001b[0mlength_remaining\u001b[0m\u001b[1;33m)\u001b[0m\u001b[1;33m\u001b[0m\u001b[1;33m\u001b[0m\u001b[0m\n\u001b[0m\u001b[0;32m    541\u001b[0m \u001b[1;33m\u001b[0m\u001b[0m\n\u001b[0;32m    542\u001b[0m         \u001b[1;32mif\u001b[0m \u001b[0mdata\u001b[0m\u001b[1;33m:\u001b[0m\u001b[1;33m\u001b[0m\u001b[1;33m\u001b[0m\u001b[0m\n",
      "\u001b[1;32m~\\anaconda3\\lib\\contextlib.py\u001b[0m in \u001b[0;36m__exit__\u001b[1;34m(self, type, value, traceback)\u001b[0m\n\u001b[0;32m    129\u001b[0m                 \u001b[0mvalue\u001b[0m \u001b[1;33m=\u001b[0m \u001b[0mtype\u001b[0m\u001b[1;33m(\u001b[0m\u001b[1;33m)\u001b[0m\u001b[1;33m\u001b[0m\u001b[1;33m\u001b[0m\u001b[0m\n\u001b[0;32m    130\u001b[0m             \u001b[1;32mtry\u001b[0m\u001b[1;33m:\u001b[0m\u001b[1;33m\u001b[0m\u001b[1;33m\u001b[0m\u001b[0m\n\u001b[1;32m--> 131\u001b[1;33m                 \u001b[0mself\u001b[0m\u001b[1;33m.\u001b[0m\u001b[0mgen\u001b[0m\u001b[1;33m.\u001b[0m\u001b[0mthrow\u001b[0m\u001b[1;33m(\u001b[0m\u001b[0mtype\u001b[0m\u001b[1;33m,\u001b[0m \u001b[0mvalue\u001b[0m\u001b[1;33m,\u001b[0m \u001b[0mtraceback\u001b[0m\u001b[1;33m)\u001b[0m\u001b[1;33m\u001b[0m\u001b[1;33m\u001b[0m\u001b[0m\n\u001b[0m\u001b[0;32m    132\u001b[0m             \u001b[1;32mexcept\u001b[0m \u001b[0mStopIteration\u001b[0m \u001b[1;32mas\u001b[0m \u001b[0mexc\u001b[0m\u001b[1;33m:\u001b[0m\u001b[1;33m\u001b[0m\u001b[1;33m\u001b[0m\u001b[0m\n\u001b[0;32m    133\u001b[0m                 \u001b[1;31m# Suppress StopIteration *unless* it's the same exception that\u001b[0m\u001b[1;33m\u001b[0m\u001b[1;33m\u001b[0m\u001b[1;33m\u001b[0m\u001b[0m\n",
      "\u001b[1;32m~\\anaconda3\\lib\\site-packages\\urllib3\\response.py\u001b[0m in \u001b[0;36m_error_catcher\u001b[1;34m(self)\u001b[0m\n\u001b[0;32m    452\u001b[0m             \u001b[1;32mexcept\u001b[0m \u001b[1;33m(\u001b[0m\u001b[0mHTTPException\u001b[0m\u001b[1;33m,\u001b[0m \u001b[0mSocketError\u001b[0m\u001b[1;33m)\u001b[0m \u001b[1;32mas\u001b[0m \u001b[0me\u001b[0m\u001b[1;33m:\u001b[0m\u001b[1;33m\u001b[0m\u001b[1;33m\u001b[0m\u001b[0m\n\u001b[0;32m    453\u001b[0m                 \u001b[1;31m# This includes IncompleteRead.\u001b[0m\u001b[1;33m\u001b[0m\u001b[1;33m\u001b[0m\u001b[1;33m\u001b[0m\u001b[0m\n\u001b[1;32m--> 454\u001b[1;33m                 \u001b[1;32mraise\u001b[0m \u001b[0mProtocolError\u001b[0m\u001b[1;33m(\u001b[0m\u001b[1;34m\"Connection broken: %r\"\u001b[0m \u001b[1;33m%\u001b[0m \u001b[0me\u001b[0m\u001b[1;33m,\u001b[0m \u001b[0me\u001b[0m\u001b[1;33m)\u001b[0m\u001b[1;33m\u001b[0m\u001b[1;33m\u001b[0m\u001b[0m\n\u001b[0m\u001b[0;32m    455\u001b[0m \u001b[1;33m\u001b[0m\u001b[0m\n\u001b[0;32m    456\u001b[0m             \u001b[1;31m# If no exception is thrown, we should avoid cleaning up\u001b[0m\u001b[1;33m\u001b[0m\u001b[1;33m\u001b[0m\u001b[1;33m\u001b[0m\u001b[0m\n",
      "\u001b[1;31mProtocolError\u001b[0m: ('Connection broken: IncompleteRead(0 bytes read)', IncompleteRead(0 bytes read))"
     ]
    }
   ],
   "source": [
    "keywords_to_track = ['Israel','Palestine']\n",
    "\n",
    "tweet_count=0\n",
    "\n",
    "n_tweets=10000\n",
    "\n",
    "class listener(StreamListener):\n",
    "    \n",
    "    def on_data(self, data):\n",
    "        global tweet_count\n",
    "        global n_tweets\n",
    "        global stream\n",
    "        \n",
    "        if tweet_count < n_tweets:\n",
    "            with open('fetched.txt','a') as tf:\n",
    "                tf.write(data)\n",
    "            tweet_count = tweet_count + 1\n",
    "            return True\n",
    "        else:\n",
    "            print('done')\n",
    "            stream.disconnect()\n",
    "       \n",
    "    def on_error(self, status):\n",
    "        print (status)\n",
    "        \n",
    "\n",
    "\n",
    "sl = listener()\n",
    "\n",
    "\n",
    "stream = Stream(auth,sl)\n",
    "\n",
    "stream.filter(track=keywords_to_track)\n",
    "    \n",
    "    \n"
   ]
  },
  {
   "cell_type": "code",
   "execution_count": 4,
   "metadata": {},
   "outputs": [
    {
     "data": {
      "text/html": [
       "<div>\n",
       "<style scoped>\n",
       "    .dataframe tbody tr th:only-of-type {\n",
       "        vertical-align: middle;\n",
       "    }\n",
       "\n",
       "    .dataframe tbody tr th {\n",
       "        vertical-align: top;\n",
       "    }\n",
       "\n",
       "    .dataframe thead th {\n",
       "        text-align: right;\n",
       "    }\n",
       "</style>\n",
       "<table border=\"1\" class=\"dataframe\">\n",
       "  <thead>\n",
       "    <tr style=\"text-align: right;\">\n",
       "      <th></th>\n",
       "      <th>text</th>\n",
       "      <th>Timestamp</th>\n",
       "    </tr>\n",
       "  </thead>\n",
       "  <tbody>\n",
       "    <tr>\n",
       "      <th>0</th>\n",
       "      <td>RT @IbtisamMalik10: Naara ae Awaam da\\nIsrael ...</td>\n",
       "      <td>Wed May 19 06:05:28 +0000 2021</td>\n",
       "    </tr>\n",
       "    <tr>\n",
       "      <th>1</th>\n",
       "      <td>RT @AyeshaASiddiqi: i don’t think enough Ameri...</td>\n",
       "      <td>Wed May 19 06:05:28 +0000 2021</td>\n",
       "    </tr>\n",
       "    <tr>\n",
       "      <th>2</th>\n",
       "      <td>RT @ChrisDeLeon: reminder: AP correctly identi...</td>\n",
       "      <td>Wed May 19 06:05:28 +0000 2021</td>\n",
       "    </tr>\n",
       "    <tr>\n",
       "      <th>3</th>\n",
       "      <td>RT @wan_ilham: Ni bukan israel jer koyak. Majl...</td>\n",
       "      <td>Wed May 19 06:05:29 +0000 2021</td>\n",
       "    </tr>\n",
       "    <tr>\n",
       "      <th>4</th>\n",
       "      <td>RT @adamelmahrek: Dear ⁦@nytimes⁩ \\n\\nWe’re Pa...</td>\n",
       "      <td>Wed May 19 06:05:28 +0000 2021</td>\n",
       "    </tr>\n",
       "  </tbody>\n",
       "</table>\n",
       "</div>"
      ],
      "text/plain": [
       "                                                text  \\\n",
       "0  RT @IbtisamMalik10: Naara ae Awaam da\\nIsrael ...   \n",
       "1  RT @AyeshaASiddiqi: i don’t think enough Ameri...   \n",
       "2  RT @ChrisDeLeon: reminder: AP correctly identi...   \n",
       "3  RT @wan_ilham: Ni bukan israel jer koyak. Majl...   \n",
       "4  RT @adamelmahrek: Dear ⁦@nytimes⁩ \\n\\nWe’re Pa...   \n",
       "\n",
       "                        Timestamp  \n",
       "0  Wed May 19 06:05:28 +0000 2021  \n",
       "1  Wed May 19 06:05:28 +0000 2021  \n",
       "2  Wed May 19 06:05:28 +0000 2021  \n",
       "3  Wed May 19 06:05:29 +0000 2021  \n",
       "4  Wed May 19 06:05:28 +0000 2021  "
      ]
     },
     "execution_count": 4,
     "metadata": {},
     "output_type": "execute_result"
    }
   ],
   "source": [
    "stream.disconnect()\n",
    "tweets_data_path=\"fetched.txt\"\n",
    "tweets_data=[]\n",
    "\n",
    "tweets_file=open(tweets_data_path,\"r\")\n",
    "for line in tweets_file:\n",
    "    try:\n",
    "        tweet=json.loads(line)\n",
    "        tweets_data.append(tweet)\n",
    "    except:\n",
    "        continue\n",
    "  \n",
    "        \n",
    "\n",
    "tweets=pd.DataFrame()\n",
    "tweets['text'] = list(map(lambda tweet: tweet['text'], tweets_data))\n",
    "tweets['Timestamp'] = list(map(lambda tweet: tweet['created_at'], tweets_data))\n",
    "tweets.head()\n"
   ]
  },
  {
   "cell_type": "code",
   "execution_count": 5,
   "metadata": {},
   "outputs": [
    {
     "data": {
      "text/plain": [
       "{'created_at': 'Wed May 19 06:05:28 +0000 2021',\n",
       " 'id': 1394896972679503873,\n",
       " 'id_str': '1394896972679503873',\n",
       " 'text': 'RT @AyeshaASiddiqi: i don’t think enough Americans understand how literal it is when Palestinians describe what is happening to them. settl…',\n",
       " 'source': '<a href=\"http://twitter.com/download/android\" rel=\"nofollow\">Twitter for Android</a>',\n",
       " 'truncated': False,\n",
       " 'in_reply_to_status_id': None,\n",
       " 'in_reply_to_status_id_str': None,\n",
       " 'in_reply_to_user_id': None,\n",
       " 'in_reply_to_user_id_str': None,\n",
       " 'in_reply_to_screen_name': None,\n",
       " 'user': {'id': 1306637113958363136,\n",
       "  'id_str': '1306637113958363136',\n",
       "  'name': 'soo.yaa',\n",
       "  'screen_name': 'Nope10054291',\n",
       "  'location': None,\n",
       "  'url': None,\n",
       "  'description': 'She/Her\\n\\n90 year old Grandma stuck in the body of a 19 year old\\n\\nNot interested.\\n\\nBlink ot4 💗\\nArmy ot7💜',\n",
       "  'translator_type': 'none',\n",
       "  'protected': False,\n",
       "  'verified': False,\n",
       "  'followers_count': 13,\n",
       "  'friends_count': 138,\n",
       "  'listed_count': 0,\n",
       "  'favourites_count': 44216,\n",
       "  'statuses_count': 2810,\n",
       "  'created_at': 'Thu Sep 17 16:52:31 +0000 2020',\n",
       "  'utc_offset': None,\n",
       "  'time_zone': None,\n",
       "  'geo_enabled': False,\n",
       "  'lang': None,\n",
       "  'contributors_enabled': False,\n",
       "  'is_translator': False,\n",
       "  'profile_background_color': 'F5F8FA',\n",
       "  'profile_background_image_url': '',\n",
       "  'profile_background_image_url_https': '',\n",
       "  'profile_background_tile': False,\n",
       "  'profile_link_color': '1DA1F2',\n",
       "  'profile_sidebar_border_color': 'C0DEED',\n",
       "  'profile_sidebar_fill_color': 'DDEEF6',\n",
       "  'profile_text_color': '333333',\n",
       "  'profile_use_background_image': True,\n",
       "  'profile_image_url': 'http://pbs.twimg.com/profile_images/1389550305075896320/k5jeQQW1_normal.jpg',\n",
       "  'profile_image_url_https': 'https://pbs.twimg.com/profile_images/1389550305075896320/k5jeQQW1_normal.jpg',\n",
       "  'profile_banner_url': 'https://pbs.twimg.com/profile_banners/1306637113958363136/1619598016',\n",
       "  'default_profile': True,\n",
       "  'default_profile_image': False,\n",
       "  'following': None,\n",
       "  'follow_request_sent': None,\n",
       "  'notifications': None,\n",
       "  'withheld_in_countries': []},\n",
       " 'geo': None,\n",
       " 'coordinates': None,\n",
       " 'place': None,\n",
       " 'contributors': None,\n",
       " 'retweeted_status': {'created_at': 'Wed May 19 04:41:48 +0000 2021',\n",
       "  'id': 1394875916510240771,\n",
       "  'id_str': '1394875916510240771',\n",
       "  'text': 'i don’t think enough Americans understand how literal it is when Palestinians describe what is happening to them. s… https://t.co/tdznlZon2B',\n",
       "  'source': '<a href=\"http://twitter.com/download/iphone\" rel=\"nofollow\">Twitter for iPhone</a>',\n",
       "  'truncated': True,\n",
       "  'in_reply_to_status_id': None,\n",
       "  'in_reply_to_status_id_str': None,\n",
       "  'in_reply_to_user_id': None,\n",
       "  'in_reply_to_user_id_str': None,\n",
       "  'in_reply_to_screen_name': None,\n",
       "  'user': {'id': 108441652,\n",
       "   'id_str': '108441652',\n",
       "   'name': 'Ayesha A. Siddiqi',\n",
       "   'screen_name': 'AyeshaASiddiqi',\n",
       "   'location': 'LA',\n",
       "   'url': None,\n",
       "   'description': 'I write and forecast trends. ayesha@thenewinquiry.com https://www.ayeshaasiddiqi.com https://theoneswelove.shop',\n",
       "   'translator_type': 'regular',\n",
       "   'protected': False,\n",
       "   'verified': True,\n",
       "   'followers_count': 72912,\n",
       "   'friends_count': 1000,\n",
       "   'listed_count': 947,\n",
       "   'favourites_count': 46249,\n",
       "   'statuses_count': 71138,\n",
       "   'created_at': 'Mon Jan 25 23:32:32 +0000 2010',\n",
       "   'utc_offset': None,\n",
       "   'time_zone': None,\n",
       "   'geo_enabled': False,\n",
       "   'lang': None,\n",
       "   'contributors_enabled': False,\n",
       "   'is_translator': False,\n",
       "   'profile_background_color': '131516',\n",
       "   'profile_background_image_url': 'http://abs.twimg.com/images/themes/theme1/bg.png',\n",
       "   'profile_background_image_url_https': 'https://abs.twimg.com/images/themes/theme1/bg.png',\n",
       "   'profile_background_tile': True,\n",
       "   'profile_link_color': '75299E',\n",
       "   'profile_sidebar_border_color': '000000',\n",
       "   'profile_sidebar_fill_color': 'EFEFEF',\n",
       "   'profile_text_color': '333333',\n",
       "   'profile_use_background_image': True,\n",
       "   'profile_image_url': 'http://pbs.twimg.com/profile_images/903175161897115649/6i4MO3Uf_normal.jpg',\n",
       "   'profile_image_url_https': 'https://pbs.twimg.com/profile_images/903175161897115649/6i4MO3Uf_normal.jpg',\n",
       "   'profile_banner_url': 'https://pbs.twimg.com/profile_banners/108441652/1436081719',\n",
       "   'default_profile': False,\n",
       "   'default_profile_image': False,\n",
       "   'following': None,\n",
       "   'follow_request_sent': None,\n",
       "   'notifications': None,\n",
       "   'withheld_in_countries': []},\n",
       "  'geo': None,\n",
       "  'coordinates': None,\n",
       "  'place': None,\n",
       "  'contributors': None,\n",
       "  'quoted_status_id': 1261380781017980929,\n",
       "  'quoted_status_id_str': '1261380781017980929',\n",
       "  'quoted_status': {'created_at': 'Fri May 15 19:39:48 +0000 2020',\n",
       "   'id': 1261380781017980929,\n",
       "   'id_str': '1261380781017980929',\n",
       "   'text': 'An old Palestinian couple in front of their stolen house now inhabited by jewish settlers from Brooklyn, NY, USA. M… https://t.co/pzoV4SXGV6',\n",
       "   'display_text_range': [0, 140],\n",
       "   'source': '<a href=\"http://twitter.com/download/iphone\" rel=\"nofollow\">Twitter for iPhone</a>',\n",
       "   'truncated': True,\n",
       "   'in_reply_to_status_id': None,\n",
       "   'in_reply_to_status_id_str': None,\n",
       "   'in_reply_to_user_id': None,\n",
       "   'in_reply_to_user_id_str': None,\n",
       "   'in_reply_to_screen_name': None,\n",
       "   'user': {'id': 1289954977,\n",
       "    'id_str': '1289954977',\n",
       "    'name': 'Fares Shehabi',\n",
       "    'screen_name': 'ShehabiFares',\n",
       "    'location': 'Syria',\n",
       "    'url': 'https://www.facebook.com/fares.shehabi',\n",
       "    'description': 'Husband, dad, & a businessman living through the dirtiest war ever! A proud Buckeye! No mercy for hypocrites & terror supporters! رئيس اتحاد غرف الصناعة السورية',\n",
       "    'translator_type': 'none',\n",
       "    'protected': False,\n",
       "    'verified': False,\n",
       "    'followers_count': 41766,\n",
       "    'friends_count': 117,\n",
       "    'listed_count': 320,\n",
       "    'favourites_count': 4504,\n",
       "    'statuses_count': 26796,\n",
       "    'created_at': 'Fri Mar 22 23:48:31 +0000 2013',\n",
       "    'utc_offset': None,\n",
       "    'time_zone': None,\n",
       "    'geo_enabled': False,\n",
       "    'lang': None,\n",
       "    'contributors_enabled': False,\n",
       "    'is_translator': False,\n",
       "    'profile_background_color': 'C0DEED',\n",
       "    'profile_background_image_url': 'http://abs.twimg.com/images/themes/theme1/bg.png',\n",
       "    'profile_background_image_url_https': 'https://abs.twimg.com/images/themes/theme1/bg.png',\n",
       "    'profile_background_tile': False,\n",
       "    'profile_link_color': '1DA1F2',\n",
       "    'profile_sidebar_border_color': 'C0DEED',\n",
       "    'profile_sidebar_fill_color': 'DDEEF6',\n",
       "    'profile_text_color': '333333',\n",
       "    'profile_use_background_image': True,\n",
       "    'profile_image_url': 'http://pbs.twimg.com/profile_images/1371171430063280128/LjwWDmsA_normal.jpg',\n",
       "    'profile_image_url_https': 'https://pbs.twimg.com/profile_images/1371171430063280128/LjwWDmsA_normal.jpg',\n",
       "    'profile_banner_url': 'https://pbs.twimg.com/profile_banners/1289954977/1594054682',\n",
       "    'default_profile': True,\n",
       "    'default_profile_image': False,\n",
       "    'following': None,\n",
       "    'follow_request_sent': None,\n",
       "    'notifications': None,\n",
       "    'withheld_in_countries': []},\n",
       "   'geo': None,\n",
       "   'coordinates': None,\n",
       "   'place': None,\n",
       "   'contributors': None,\n",
       "   'is_quote_status': False,\n",
       "   'extended_tweet': {'full_text': 'An old Palestinian couple in front of their stolen house now inhabited by jewish settlers from Brooklyn, NY, USA. Most of Palestine is stolen. https://t.co/4uXKeuxkxq',\n",
       "    'display_text_range': [0, 142],\n",
       "    'entities': {'hashtags': [],\n",
       "     'urls': [],\n",
       "     'user_mentions': [],\n",
       "     'symbols': [],\n",
       "     'media': [{'id': 1261380716065165313,\n",
       "       'id_str': '1261380716065165313',\n",
       "       'indices': [143, 166],\n",
       "       'media_url': 'http://pbs.twimg.com/media/EYFTFAOXkAESKeX.jpg',\n",
       "       'media_url_https': 'https://pbs.twimg.com/media/EYFTFAOXkAESKeX.jpg',\n",
       "       'url': 'https://t.co/4uXKeuxkxq',\n",
       "       'display_url': 'pic.twitter.com/4uXKeuxkxq',\n",
       "       'expanded_url': 'https://twitter.com/ShehabiFares/status/1261380781017980929/photo/1',\n",
       "       'type': 'photo',\n",
       "       'sizes': {'thumb': {'w': 150, 'h': 150, 'resize': 'crop'},\n",
       "        'small': {'w': 579, 'h': 680, 'resize': 'fit'},\n",
       "        'medium': {'w': 872, 'h': 1024, 'resize': 'fit'},\n",
       "        'large': {'w': 872, 'h': 1024, 'resize': 'fit'}}}]},\n",
       "    'extended_entities': {'media': [{'id': 1261380716065165313,\n",
       "       'id_str': '1261380716065165313',\n",
       "       'indices': [143, 166],\n",
       "       'media_url': 'http://pbs.twimg.com/media/EYFTFAOXkAESKeX.jpg',\n",
       "       'media_url_https': 'https://pbs.twimg.com/media/EYFTFAOXkAESKeX.jpg',\n",
       "       'url': 'https://t.co/4uXKeuxkxq',\n",
       "       'display_url': 'pic.twitter.com/4uXKeuxkxq',\n",
       "       'expanded_url': 'https://twitter.com/ShehabiFares/status/1261380781017980929/photo/1',\n",
       "       'type': 'photo',\n",
       "       'sizes': {'thumb': {'w': 150, 'h': 150, 'resize': 'crop'},\n",
       "        'small': {'w': 579, 'h': 680, 'resize': 'fit'},\n",
       "        'medium': {'w': 872, 'h': 1024, 'resize': 'fit'},\n",
       "        'large': {'w': 872, 'h': 1024, 'resize': 'fit'}}}]}},\n",
       "   'quote_count': 178,\n",
       "   'reply_count': 143,\n",
       "   'retweet_count': 2088,\n",
       "   'favorite_count': 3750,\n",
       "   'entities': {'hashtags': [],\n",
       "    'urls': [{'url': 'https://t.co/pzoV4SXGV6',\n",
       "      'expanded_url': 'https://twitter.com/i/web/status/1261380781017980929',\n",
       "      'display_url': 'twitter.com/i/web/status/1…',\n",
       "      'indices': [117, 140]}],\n",
       "    'user_mentions': [],\n",
       "    'symbols': []},\n",
       "   'favorited': False,\n",
       "   'retweeted': False,\n",
       "   'possibly_sensitive': False,\n",
       "   'filter_level': 'low',\n",
       "   'lang': 'en'},\n",
       "  'quoted_status_permalink': {'url': 'https://t.co/dVla98MSHH',\n",
       "   'expanded': 'https://twitter.com/shehabifares/status/1261380781017980929',\n",
       "   'display': 'twitter.com/shehabifares/s…'},\n",
       "  'is_quote_status': True,\n",
       "  'extended_tweet': {'full_text': 'i don’t think enough Americans understand how literal it is when Palestinians describe what is happening to them. settler colonialism is not being used metaphorically. having their homes stolen is not just what it feels like it’s what it is.',\n",
       "   'display_text_range': [0, 241],\n",
       "   'entities': {'hashtags': [],\n",
       "    'urls': [],\n",
       "    'user_mentions': [],\n",
       "    'symbols': []}},\n",
       "  'quote_count': 10,\n",
       "  'reply_count': 4,\n",
       "  'retweet_count': 2043,\n",
       "  'favorite_count': 3421,\n",
       "  'entities': {'hashtags': [],\n",
       "   'urls': [{'url': 'https://t.co/tdznlZon2B',\n",
       "     'expanded_url': 'https://twitter.com/i/web/status/1394875916510240771',\n",
       "     'display_url': 'twitter.com/i/web/status/1…',\n",
       "     'indices': [117, 140]}],\n",
       "   'user_mentions': [],\n",
       "   'symbols': []},\n",
       "  'favorited': False,\n",
       "  'retweeted': False,\n",
       "  'filter_level': 'low',\n",
       "  'lang': 'en'},\n",
       " 'quoted_status_id': 1261380781017980929,\n",
       " 'quoted_status_id_str': '1261380781017980929',\n",
       " 'quoted_status': {'created_at': 'Fri May 15 19:39:48 +0000 2020',\n",
       "  'id': 1261380781017980929,\n",
       "  'id_str': '1261380781017980929',\n",
       "  'text': 'An old Palestinian couple in front of their stolen house now inhabited by jewish settlers from Brooklyn, NY, USA. M… https://t.co/pzoV4SXGV6',\n",
       "  'display_text_range': [0, 140],\n",
       "  'source': '<a href=\"http://twitter.com/download/iphone\" rel=\"nofollow\">Twitter for iPhone</a>',\n",
       "  'truncated': True,\n",
       "  'in_reply_to_status_id': None,\n",
       "  'in_reply_to_status_id_str': None,\n",
       "  'in_reply_to_user_id': None,\n",
       "  'in_reply_to_user_id_str': None,\n",
       "  'in_reply_to_screen_name': None,\n",
       "  'user': {'id': 1289954977,\n",
       "   'id_str': '1289954977',\n",
       "   'name': 'Fares Shehabi',\n",
       "   'screen_name': 'ShehabiFares',\n",
       "   'location': 'Syria',\n",
       "   'url': 'https://www.facebook.com/fares.shehabi',\n",
       "   'description': 'Husband, dad, & a businessman living through the dirtiest war ever! A proud Buckeye! No mercy for hypocrites & terror supporters! رئيس اتحاد غرف الصناعة السورية',\n",
       "   'translator_type': 'none',\n",
       "   'protected': False,\n",
       "   'verified': False,\n",
       "   'followers_count': 41766,\n",
       "   'friends_count': 117,\n",
       "   'listed_count': 320,\n",
       "   'favourites_count': 4504,\n",
       "   'statuses_count': 26796,\n",
       "   'created_at': 'Fri Mar 22 23:48:31 +0000 2013',\n",
       "   'utc_offset': None,\n",
       "   'time_zone': None,\n",
       "   'geo_enabled': False,\n",
       "   'lang': None,\n",
       "   'contributors_enabled': False,\n",
       "   'is_translator': False,\n",
       "   'profile_background_color': 'C0DEED',\n",
       "   'profile_background_image_url': 'http://abs.twimg.com/images/themes/theme1/bg.png',\n",
       "   'profile_background_image_url_https': 'https://abs.twimg.com/images/themes/theme1/bg.png',\n",
       "   'profile_background_tile': False,\n",
       "   'profile_link_color': '1DA1F2',\n",
       "   'profile_sidebar_border_color': 'C0DEED',\n",
       "   'profile_sidebar_fill_color': 'DDEEF6',\n",
       "   'profile_text_color': '333333',\n",
       "   'profile_use_background_image': True,\n",
       "   'profile_image_url': 'http://pbs.twimg.com/profile_images/1371171430063280128/LjwWDmsA_normal.jpg',\n",
       "   'profile_image_url_https': 'https://pbs.twimg.com/profile_images/1371171430063280128/LjwWDmsA_normal.jpg',\n",
       "   'profile_banner_url': 'https://pbs.twimg.com/profile_banners/1289954977/1594054682',\n",
       "   'default_profile': True,\n",
       "   'default_profile_image': False,\n",
       "   'following': None,\n",
       "   'follow_request_sent': None,\n",
       "   'notifications': None,\n",
       "   'withheld_in_countries': []},\n",
       "  'geo': None,\n",
       "  'coordinates': None,\n",
       "  'place': None,\n",
       "  'contributors': None,\n",
       "  'is_quote_status': False,\n",
       "  'extended_tweet': {'full_text': 'An old Palestinian couple in front of their stolen house now inhabited by jewish settlers from Brooklyn, NY, USA. Most of Palestine is stolen. https://t.co/4uXKeuxkxq',\n",
       "   'display_text_range': [0, 142],\n",
       "   'entities': {'hashtags': [],\n",
       "    'urls': [],\n",
       "    'user_mentions': [],\n",
       "    'symbols': [],\n",
       "    'media': [{'id': 1261380716065165313,\n",
       "      'id_str': '1261380716065165313',\n",
       "      'indices': [143, 166],\n",
       "      'media_url': 'http://pbs.twimg.com/media/EYFTFAOXkAESKeX.jpg',\n",
       "      'media_url_https': 'https://pbs.twimg.com/media/EYFTFAOXkAESKeX.jpg',\n",
       "      'url': 'https://t.co/4uXKeuxkxq',\n",
       "      'display_url': 'pic.twitter.com/4uXKeuxkxq',\n",
       "      'expanded_url': 'https://twitter.com/ShehabiFares/status/1261380781017980929/photo/1',\n",
       "      'type': 'photo',\n",
       "      'sizes': {'thumb': {'w': 150, 'h': 150, 'resize': 'crop'},\n",
       "       'small': {'w': 579, 'h': 680, 'resize': 'fit'},\n",
       "       'medium': {'w': 872, 'h': 1024, 'resize': 'fit'},\n",
       "       'large': {'w': 872, 'h': 1024, 'resize': 'fit'}}}]},\n",
       "   'extended_entities': {'media': [{'id': 1261380716065165313,\n",
       "      'id_str': '1261380716065165313',\n",
       "      'indices': [143, 166],\n",
       "      'media_url': 'http://pbs.twimg.com/media/EYFTFAOXkAESKeX.jpg',\n",
       "      'media_url_https': 'https://pbs.twimg.com/media/EYFTFAOXkAESKeX.jpg',\n",
       "      'url': 'https://t.co/4uXKeuxkxq',\n",
       "      'display_url': 'pic.twitter.com/4uXKeuxkxq',\n",
       "      'expanded_url': 'https://twitter.com/ShehabiFares/status/1261380781017980929/photo/1',\n",
       "      'type': 'photo',\n",
       "      'sizes': {'thumb': {'w': 150, 'h': 150, 'resize': 'crop'},\n",
       "       'small': {'w': 579, 'h': 680, 'resize': 'fit'},\n",
       "       'medium': {'w': 872, 'h': 1024, 'resize': 'fit'},\n",
       "       'large': {'w': 872, 'h': 1024, 'resize': 'fit'}}}]}},\n",
       "  'quote_count': 178,\n",
       "  'reply_count': 143,\n",
       "  'retweet_count': 2088,\n",
       "  'favorite_count': 3750,\n",
       "  'entities': {'hashtags': [],\n",
       "   'urls': [{'url': 'https://t.co/pzoV4SXGV6',\n",
       "     'expanded_url': 'https://twitter.com/i/web/status/1261380781017980929',\n",
       "     'display_url': 'twitter.com/i/web/status/1…',\n",
       "     'indices': [117, 140]}],\n",
       "   'user_mentions': [],\n",
       "   'symbols': []},\n",
       "  'favorited': False,\n",
       "  'retweeted': False,\n",
       "  'possibly_sensitive': False,\n",
       "  'filter_level': 'low',\n",
       "  'lang': 'en'},\n",
       " 'quoted_status_permalink': {'url': 'https://t.co/dVla98MSHH',\n",
       "  'expanded': 'https://twitter.com/shehabifares/status/1261380781017980929',\n",
       "  'display': 'twitter.com/shehabifares/s…'},\n",
       " 'is_quote_status': True,\n",
       " 'quote_count': 0,\n",
       " 'reply_count': 0,\n",
       " 'retweet_count': 0,\n",
       " 'favorite_count': 0,\n",
       " 'entities': {'hashtags': [],\n",
       "  'urls': [],\n",
       "  'user_mentions': [{'screen_name': 'AyeshaASiddiqi',\n",
       "    'name': 'Ayesha A. Siddiqi',\n",
       "    'id': 108441652,\n",
       "    'id_str': '108441652',\n",
       "    'indices': [3, 18]}],\n",
       "  'symbols': []},\n",
       " 'favorited': False,\n",
       " 'retweeted': False,\n",
       " 'filter_level': 'low',\n",
       " 'lang': 'en',\n",
       " 'timestamp_ms': '1621404328876'}"
      ]
     },
     "execution_count": 5,
     "metadata": {},
     "output_type": "execute_result"
    }
   ],
   "source": [
    "tweets_data[1]"
   ]
  },
  {
   "cell_type": "code",
   "execution_count": 6,
   "metadata": {},
   "outputs": [
    {
     "name": "stdout",
     "output_type": "stream",
     "text": [
      "<class 'pandas.core.frame.DataFrame'>\n",
      "RangeIndex: 7892 entries, 0 to 7891\n",
      "Data columns (total 2 columns):\n",
      " #   Column     Non-Null Count  Dtype \n",
      "---  ------     --------------  ----- \n",
      " 0   text       7892 non-null   object\n",
      " 1   Timestamp  7892 non-null   object\n",
      "dtypes: object(2)\n",
      "memory usage: 123.4+ KB\n"
     ]
    }
   ],
   "source": [
    "tweets.info()"
   ]
  },
  {
   "cell_type": "code",
   "execution_count": 7,
   "metadata": {},
   "outputs": [],
   "source": [
    "def check_word(word,data):\n",
    "    contains=data['text'].str.contains(word,case=False)\n",
    "    return contains"
   ]
  },
  {
   "cell_type": "code",
   "execution_count": 8,
   "metadata": {},
   "outputs": [
    {
     "data": {
      "text/plain": [
       "0       Wed May 19 06:05:28 +0000 2021\n",
       "1       Wed May 19 06:05:28 +0000 2021\n",
       "2       Wed May 19 06:05:28 +0000 2021\n",
       "3       Wed May 19 06:05:29 +0000 2021\n",
       "4       Wed May 19 06:05:28 +0000 2021\n",
       "                     ...              \n",
       "7887    Wed May 19 06:10:28 +0000 2021\n",
       "7888    Wed May 19 06:10:28 +0000 2021\n",
       "7889    Wed May 19 06:10:28 +0000 2021\n",
       "7890    Wed May 19 06:10:28 +0000 2021\n",
       "7891    Wed May 19 06:10:28 +0000 2021\n",
       "Name: Timestamp, Length: 7892, dtype: object"
      ]
     },
     "execution_count": 8,
     "metadata": {},
     "output_type": "execute_result"
    }
   ],
   "source": [
    "tweets['Timestamp']"
   ]
  },
  {
   "cell_type": "code",
   "execution_count": 9,
   "metadata": {},
   "outputs": [],
   "source": [
    "tweets['Timestamp']=pd.to_datetime(tweets['Timestamp'])"
   ]
  },
  {
   "cell_type": "code",
   "execution_count": 10,
   "metadata": {},
   "outputs": [
    {
     "data": {
      "text/plain": [
       "0      2021-05-19 06:05:28+00:00\n",
       "1      2021-05-19 06:05:28+00:00\n",
       "2      2021-05-19 06:05:28+00:00\n",
       "3      2021-05-19 06:05:29+00:00\n",
       "4      2021-05-19 06:05:28+00:00\n",
       "                  ...           \n",
       "7887   2021-05-19 06:10:28+00:00\n",
       "7888   2021-05-19 06:10:28+00:00\n",
       "7889   2021-05-19 06:10:28+00:00\n",
       "7890   2021-05-19 06:10:28+00:00\n",
       "7891   2021-05-19 06:10:28+00:00\n",
       "Name: Timestamp, Length: 7892, dtype: datetime64[ns, UTC]"
      ]
     },
     "execution_count": 10,
     "metadata": {},
     "output_type": "execute_result"
    }
   ],
   "source": [
    "tweets['Timestamp']"
   ]
  },
  {
   "cell_type": "code",
   "execution_count": 11,
   "metadata": {},
   "outputs": [
    {
     "data": {
      "text/html": [
       "<div>\n",
       "<style scoped>\n",
       "    .dataframe tbody tr th:only-of-type {\n",
       "        vertical-align: middle;\n",
       "    }\n",
       "\n",
       "    .dataframe tbody tr th {\n",
       "        vertical-align: top;\n",
       "    }\n",
       "\n",
       "    .dataframe thead th {\n",
       "        text-align: right;\n",
       "    }\n",
       "</style>\n",
       "<table border=\"1\" class=\"dataframe\">\n",
       "  <thead>\n",
       "    <tr style=\"text-align: right;\">\n",
       "      <th></th>\n",
       "      <th>text</th>\n",
       "    </tr>\n",
       "    <tr>\n",
       "      <th>Timestamp</th>\n",
       "      <th></th>\n",
       "    </tr>\n",
       "  </thead>\n",
       "  <tbody>\n",
       "    <tr>\n",
       "      <th>2021-05-19 06:05:28+00:00</th>\n",
       "      <td>RT @IbtisamMalik10: Naara ae Awaam da\\nIsrael ...</td>\n",
       "    </tr>\n",
       "    <tr>\n",
       "      <th>2021-05-19 06:05:28+00:00</th>\n",
       "      <td>RT @AyeshaASiddiqi: i don’t think enough Ameri...</td>\n",
       "    </tr>\n",
       "    <tr>\n",
       "      <th>2021-05-19 06:05:28+00:00</th>\n",
       "      <td>RT @ChrisDeLeon: reminder: AP correctly identi...</td>\n",
       "    </tr>\n",
       "    <tr>\n",
       "      <th>2021-05-19 06:05:29+00:00</th>\n",
       "      <td>RT @wan_ilham: Ni bukan israel jer koyak. Majl...</td>\n",
       "    </tr>\n",
       "    <tr>\n",
       "      <th>2021-05-19 06:05:28+00:00</th>\n",
       "      <td>RT @adamelmahrek: Dear ⁦@nytimes⁩ \\n\\nWe’re Pa...</td>\n",
       "    </tr>\n",
       "    <tr>\n",
       "      <th>2021-05-19 06:05:28+00:00</th>\n",
       "      <td>@Adr14ntie Ga pernah belajar sejarah tu orang ...</td>\n",
       "    </tr>\n",
       "    <tr>\n",
       "      <th>2021-05-19 06:05:29+00:00</th>\n",
       "      <td>RT @RabbiWolpe: Why doesn’t Israel offer the P...</td>\n",
       "    </tr>\n",
       "    <tr>\n",
       "      <th>2021-05-19 06:05:29+00:00</th>\n",
       "      <td>DYING LMAAOOO</td>\n",
       "    </tr>\n",
       "    <tr>\n",
       "      <th>2021-05-19 06:05:29+00:00</th>\n",
       "      <td>RT @JesHealy: At least 52,000 people displaced...</td>\n",
       "    </tr>\n",
       "    <tr>\n",
       "      <th>2021-05-19 06:05:29+00:00</th>\n",
       "      <td>RT @notorioustapir: Pls dont make f&amp;amp;b work...</td>\n",
       "    </tr>\n",
       "  </tbody>\n",
       "</table>\n",
       "</div>"
      ],
      "text/plain": [
       "                                                                        text\n",
       "Timestamp                                                                   \n",
       "2021-05-19 06:05:28+00:00  RT @IbtisamMalik10: Naara ae Awaam da\\nIsrael ...\n",
       "2021-05-19 06:05:28+00:00  RT @AyeshaASiddiqi: i don’t think enough Ameri...\n",
       "2021-05-19 06:05:28+00:00  RT @ChrisDeLeon: reminder: AP correctly identi...\n",
       "2021-05-19 06:05:29+00:00  RT @wan_ilham: Ni bukan israel jer koyak. Majl...\n",
       "2021-05-19 06:05:28+00:00  RT @adamelmahrek: Dear ⁦@nytimes⁩ \\n\\nWe’re Pa...\n",
       "2021-05-19 06:05:28+00:00  @Adr14ntie Ga pernah belajar sejarah tu orang ...\n",
       "2021-05-19 06:05:29+00:00  RT @RabbiWolpe: Why doesn’t Israel offer the P...\n",
       "2021-05-19 06:05:29+00:00                                      DYING LMAAOOO\n",
       "2021-05-19 06:05:29+00:00  RT @JesHealy: At least 52,000 people displaced...\n",
       "2021-05-19 06:05:29+00:00  RT @notorioustapir: Pls dont make f&amp;b work..."
      ]
     },
     "execution_count": 11,
     "metadata": {},
     "output_type": "execute_result"
    }
   ],
   "source": [
    "tweets=tweets.set_index('Timestamp')\n",
    "tweets.head(10)"
   ]
  },
  {
   "cell_type": "code",
   "execution_count": 12,
   "metadata": {},
   "outputs": [
    {
     "data": {
      "text/html": [
       "<div>\n",
       "<style scoped>\n",
       "    .dataframe tbody tr th:only-of-type {\n",
       "        vertical-align: middle;\n",
       "    }\n",
       "\n",
       "    .dataframe tbody tr th {\n",
       "        vertical-align: top;\n",
       "    }\n",
       "\n",
       "    .dataframe thead th {\n",
       "        text-align: right;\n",
       "    }\n",
       "</style>\n",
       "<table border=\"1\" class=\"dataframe\">\n",
       "  <thead>\n",
       "    <tr style=\"text-align: right;\">\n",
       "      <th></th>\n",
       "      <th>text</th>\n",
       "      <th>Israel</th>\n",
       "      <th>Palestine</th>\n",
       "    </tr>\n",
       "    <tr>\n",
       "      <th>Timestamp</th>\n",
       "      <th></th>\n",
       "      <th></th>\n",
       "      <th></th>\n",
       "    </tr>\n",
       "  </thead>\n",
       "  <tbody>\n",
       "    <tr>\n",
       "      <th>2021-05-19 06:05:28+00:00</th>\n",
       "      <td>RT @IbtisamMalik10: Naara ae Awaam da\\nIsrael ...</td>\n",
       "      <td>True</td>\n",
       "      <td>False</td>\n",
       "    </tr>\n",
       "    <tr>\n",
       "      <th>2021-05-19 06:05:28+00:00</th>\n",
       "      <td>RT @AyeshaASiddiqi: i don’t think enough Ameri...</td>\n",
       "      <td>False</td>\n",
       "      <td>False</td>\n",
       "    </tr>\n",
       "    <tr>\n",
       "      <th>2021-05-19 06:05:28+00:00</th>\n",
       "      <td>RT @ChrisDeLeon: reminder: AP correctly identi...</td>\n",
       "      <td>True</td>\n",
       "      <td>False</td>\n",
       "    </tr>\n",
       "    <tr>\n",
       "      <th>2021-05-19 06:05:29+00:00</th>\n",
       "      <td>RT @wan_ilham: Ni bukan israel jer koyak. Majl...</td>\n",
       "      <td>True</td>\n",
       "      <td>False</td>\n",
       "    </tr>\n",
       "    <tr>\n",
       "      <th>2021-05-19 06:05:28+00:00</th>\n",
       "      <td>RT @adamelmahrek: Dear ⁦@nytimes⁩ \\n\\nWe’re Pa...</td>\n",
       "      <td>True</td>\n",
       "      <td>False</td>\n",
       "    </tr>\n",
       "    <tr>\n",
       "      <th>2021-05-19 06:05:28+00:00</th>\n",
       "      <td>@Adr14ntie Ga pernah belajar sejarah tu orang ...</td>\n",
       "      <td>False</td>\n",
       "      <td>False</td>\n",
       "    </tr>\n",
       "    <tr>\n",
       "      <th>2021-05-19 06:05:29+00:00</th>\n",
       "      <td>RT @RabbiWolpe: Why doesn’t Israel offer the P...</td>\n",
       "      <td>True</td>\n",
       "      <td>False</td>\n",
       "    </tr>\n",
       "    <tr>\n",
       "      <th>2021-05-19 06:05:29+00:00</th>\n",
       "      <td>DYING LMAAOOO</td>\n",
       "      <td>False</td>\n",
       "      <td>False</td>\n",
       "    </tr>\n",
       "    <tr>\n",
       "      <th>2021-05-19 06:05:29+00:00</th>\n",
       "      <td>RT @JesHealy: At least 52,000 people displaced...</td>\n",
       "      <td>True</td>\n",
       "      <td>True</td>\n",
       "    </tr>\n",
       "    <tr>\n",
       "      <th>2021-05-19 06:05:29+00:00</th>\n",
       "      <td>RT @notorioustapir: Pls dont make f&amp;amp;b work...</td>\n",
       "      <td>False</td>\n",
       "      <td>False</td>\n",
       "    </tr>\n",
       "  </tbody>\n",
       "</table>\n",
       "</div>"
      ],
      "text/plain": [
       "                                                                        text  \\\n",
       "Timestamp                                                                      \n",
       "2021-05-19 06:05:28+00:00  RT @IbtisamMalik10: Naara ae Awaam da\\nIsrael ...   \n",
       "2021-05-19 06:05:28+00:00  RT @AyeshaASiddiqi: i don’t think enough Ameri...   \n",
       "2021-05-19 06:05:28+00:00  RT @ChrisDeLeon: reminder: AP correctly identi...   \n",
       "2021-05-19 06:05:29+00:00  RT @wan_ilham: Ni bukan israel jer koyak. Majl...   \n",
       "2021-05-19 06:05:28+00:00  RT @adamelmahrek: Dear ⁦@nytimes⁩ \\n\\nWe’re Pa...   \n",
       "2021-05-19 06:05:28+00:00  @Adr14ntie Ga pernah belajar sejarah tu orang ...   \n",
       "2021-05-19 06:05:29+00:00  RT @RabbiWolpe: Why doesn’t Israel offer the P...   \n",
       "2021-05-19 06:05:29+00:00                                      DYING LMAAOOO   \n",
       "2021-05-19 06:05:29+00:00  RT @JesHealy: At least 52,000 people displaced...   \n",
       "2021-05-19 06:05:29+00:00  RT @notorioustapir: Pls dont make f&amp;b work...   \n",
       "\n",
       "                           Israel  Palestine  \n",
       "Timestamp                                     \n",
       "2021-05-19 06:05:28+00:00    True      False  \n",
       "2021-05-19 06:05:28+00:00   False      False  \n",
       "2021-05-19 06:05:28+00:00    True      False  \n",
       "2021-05-19 06:05:29+00:00    True      False  \n",
       "2021-05-19 06:05:28+00:00    True      False  \n",
       "2021-05-19 06:05:28+00:00   False      False  \n",
       "2021-05-19 06:05:29+00:00    True      False  \n",
       "2021-05-19 06:05:29+00:00   False      False  \n",
       "2021-05-19 06:05:29+00:00    True       True  \n",
       "2021-05-19 06:05:29+00:00   False      False  "
      ]
     },
     "execution_count": 12,
     "metadata": {},
     "output_type": "execute_result"
    }
   ],
   "source": [
    "tweets['Israel']=check_word('Israel',tweets)\n",
    "tweets['Palestine']=check_word('Palestine',tweets)\n",
    "tweets.head(10)"
   ]
  },
  {
   "cell_type": "code",
   "execution_count": 13,
   "metadata": {},
   "outputs": [],
   "source": [
    "mean_israel=tweets['Israel'].resample('1 min').mean()\n",
    "mean_palestine=tweets['Palestine'].resample('1 min').mean()"
   ]
  },
  {
   "cell_type": "code",
   "execution_count": 14,
   "metadata": {},
   "outputs": [
    {
     "data": {
      "text/plain": [
       "count      7892\n",
       "unique        2\n",
       "top       False\n",
       "freq       4237\n",
       "Name: Israel, dtype: object"
      ]
     },
     "execution_count": 14,
     "metadata": {},
     "output_type": "execute_result"
    }
   ],
   "source": [
    "tweets['Israel'].describe()"
   ]
  },
  {
   "cell_type": "code",
   "execution_count": 15,
   "metadata": {},
   "outputs": [
    {
     "data": {
      "text/plain": [
       "Timestamp\n",
       "2021-05-19 06:05:00+00:00    0.471178\n",
       "2021-05-19 06:06:00+00:00    0.461027\n",
       "2021-05-19 06:07:00+00:00    0.443657\n",
       "2021-05-19 06:08:00+00:00    0.483161\n",
       "2021-05-19 06:09:00+00:00    0.450867\n",
       "2021-05-19 06:10:00+00:00    0.482803\n",
       "Freq: T, Name: Israel, dtype: float64"
      ]
     },
     "execution_count": 15,
     "metadata": {},
     "output_type": "execute_result"
    }
   ],
   "source": [
    "mean_israel"
   ]
  },
  {
   "cell_type": "code",
   "execution_count": 21,
   "metadata": {},
   "outputs": [
    {
     "data": {
      "image/png": "[encoded data removed]",
      "text/plain": [
       "<Figure size 432x288 with 1 Axes>"
      ]
     },
     "metadata": {
      "needs_background": "light"
     },
     "output_type": "display_data"
    }
   ],
   "source": [
    "plt.plot(mean_israel.index.minute , mean_israel , color='r')\n",
    "plt.plot(mean_palestine.index.minute,mean_palestine, color='blue')\n",
    "plt.title('mentions over time')\n",
    "plt.xlabel('Minutes')\n",
    "plt.ylabel('Frequency')\n",
    "plt.legend(('Israel','Palestine'))\n",
    "\n",
    "plt.show()"
   ]
  },
  {
   "cell_type": "code",
   "execution_count": 30,
   "metadata": {},
   "outputs": [
    {
     "name": "stderr",
     "output_type": "stream",
     "text": [
      "[nltk_data] Downloading package vader_lexicon to\n",
      "[nltk_data]     C:\\Users\\yashs\\AppData\\Roaming\\nltk_data...\n",
      "[nltk_data]   Package vader_lexicon is already up-to-date!\n"
     ]
    },
    {
     "data": {
      "text/plain": [
       "True"
      ]
     },
     "execution_count": 30,
     "metadata": {},
     "output_type": "execute_result"
    }
   ],
   "source": [
    "import nltk\n",
    "nltk.download('vader_lexicon')"
   ]
  },
  {
   "cell_type": "code",
   "execution_count": 31,
   "metadata": {},
   "outputs": [],
   "source": [
    "from nltk.sentiment.vader import SentimentIntensityAnalyzer\n",
    "\n",
    "sid= SentimentIntensityAnalyzer()\n",
    "\n",
    "sentiment_score=tweets['text'].apply(sid.polarity_scores)"
   ]
  },
  {
   "cell_type": "code",
   "execution_count": 35,
   "metadata": {
    "scrolled": true
   },
   "outputs": [
    {
     "data": {
      "text/plain": [
       "{'neg': 0.125, 'neu': 0.875, 'pos': 0.0, 'compound': -0.3164}"
      ]
     },
     "execution_count": 35,
     "metadata": {},
     "output_type": "execute_result"
    }
   ],
   "source": [
    "sentiment_score[0]"
   ]
  },
  {
   "cell_type": "code",
   "execution_count": 36,
   "metadata": {},
   "outputs": [],
   "source": [
    "sentiment=sentiment_score.apply(lambda x: x['compound'])"
   ]
  },
  {
   "cell_type": "code",
   "execution_count": 40,
   "metadata": {},
   "outputs": [
    {
     "name": "stdout",
     "output_type": "stream",
     "text": [
      "RT @adamelmahrek: Dear ⁦@nytimes⁩ \n",
      "\n",
      "We’re Palestinian citizens of Israel, not Israeli Arabs. Please respect us and allow us to name ourselv…\n",
      "RT @IbtisamMalik10: Naara ae Awaam da\n",
      "Israel Haraam da! \n",
      "(I literally chanted this in the protest lol) 😂\n"
     ]
    }
   ],
   "source": [
    "print(tweets[sentiment >0.6]['text'].values[0])\n",
    "print(tweets[sentiment <0.6]['text'].values[0])"
   ]
  },
  {
   "cell_type": "code",
   "execution_count": 43,
   "metadata": {},
   "outputs": [
    {
     "data": {
      "text/plain": [
       "Timestamp\n",
       "2021-05-19 06:05:28+00:00   -0.3164\n",
       "2021-05-19 06:05:28+00:00    0.0000\n",
       "2021-05-19 06:05:28+00:00   -0.7717\n",
       "2021-05-19 06:05:29+00:00    0.0000\n",
       "2021-05-19 06:05:28+00:00    0.6846\n",
       "                              ...  \n",
       "2021-05-19 06:10:28+00:00    0.0000\n",
       "2021-05-19 06:10:28+00:00   -0.2263\n",
       "2021-05-19 06:10:28+00:00    0.0000\n",
       "2021-05-19 06:10:28+00:00   -0.2960\n",
       "2021-05-19 06:10:28+00:00    0.0000\n",
       "Name: text, Length: 7892, dtype: float64"
      ]
     },
     "execution_count": 43,
     "metadata": {},
     "output_type": "execute_result"
    }
   ],
   "source": [
    "sentiment"
   ]
  },
  {
   "cell_type": "code",
   "execution_count": 46,
   "metadata": {},
   "outputs": [],
   "source": [
    "sentiment_israel=sentiment[check_word('israel', tweets)].resample('1 min').mean()\n",
    "sentiment_palestine=sentiment[check_word('palestine',tweets)].resample('1 min').mean()"
   ]
  },
  {
   "cell_type": "code",
   "execution_count": 47,
   "metadata": {},
   "outputs": [
    {
     "data": {
      "image/png": "[encoded data removed]",
      "text/plain": [
       "<Figure size 432x288 with 1 Axes>"
      ]
     },
     "metadata": {
      "needs_background": "light"
     },
     "output_type": "display_data"
    }
   ],
   "source": [
    "plt.plot(sentiment_israel.index.minute,sentiment_israel , color='red')\n",
    "plt.plot(sentiment_palestine.index.minute,sentiment_palestine,color='blue')\n",
    "plt.xlabel('Minute')\n",
    "plt.ylabel('Sentiment')\n",
    "plt.title('Sentiment of keywords')\n",
    "plt.legend(('israel', 'palestine'))\n",
    "plt.show()"
   ]
  },
  {
   "cell_type": "code",
   "execution_count": null,
   "metadata": {},
   "outputs": [],
   "source": []
  }
 ],
 "metadata": {
  "kernelspec": {
   "display_name": "Python 3",
   "language": "python",
   "name": "python3"
  },
  "language_info": {
   "codemirror_mode": {
    "name": "ipython",
    "version": 3
   },
   "file_extension": ".py",
   "mimetype": "text/x-python",
   "name": "python",
   "nbconvert_exporter": "python",
   "pygments_lexer": "ipython3",
   "version": "3.8.5"
  }
 },
 "nbformat": 4,
 "nbformat_minor": 4
}
